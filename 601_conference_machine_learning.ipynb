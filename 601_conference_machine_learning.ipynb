{
 "cells": [
  {
   "cell_type": "markdown",
   "id": "db9e25ae",
   "metadata": {},
   "source": [
    "# End to End machine learning project\n",
    "- Look at the big picture\n",
    "- Get the data\n",
    "- Discover and visualize the data to gain insights\n",
    "- Prepare the data for Machine learning algorithms\n",
    "- Select a model and train it\n",
    "- Fine tune your model\n",
    "- Present your solution\n",
    "- Launch, monitor and maintain your system"
   ]
  },
  {
   "cell_type": "code",
   "execution_count": null,
   "id": "efc7bde2",
   "metadata": {},
   "outputs": [],
   "source": [
    "Topic Cluster: Machine Learing in Action"
   ]
  },
  {
   "cell_type": "code",
   "execution_count": null,
   "id": "805ac5ce",
   "metadata": {},
   "outputs": [],
   "source": []
  },
  {
   "cell_type": "code",
   "execution_count": null,
   "id": "0fcc697b",
   "metadata": {},
   "outputs": [],
   "source": []
  },
  {
   "cell_type": "code",
   "execution_count": null,
   "id": "10b4cb36",
   "metadata": {},
   "outputs": [],
   "source": []
  }
 ],
 "metadata": {
  "kernelspec": {
   "display_name": "Python 3 (ipykernel)",
   "language": "python",
   "name": "python3"
  },
  "language_info": {
   "codemirror_mode": {
    "name": "ipython",
    "version": 3
   },
   "file_extension": ".py",
   "mimetype": "text/x-python",
   "name": "python",
   "nbconvert_exporter": "python",
   "pygments_lexer": "ipython3",
   "version": "3.9.7"
  }
 },
 "nbformat": 4,
 "nbformat_minor": 5
}
